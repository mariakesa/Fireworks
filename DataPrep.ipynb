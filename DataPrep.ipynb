{
 "cells": [
  {
   "cell_type": "code",
   "execution_count": 1,
   "metadata": {},
   "outputs": [],
   "source": [
    "import numpy as np\n",
    "import OpenGL\n",
    "import vispy\n"
   ]
  },
  {
   "cell_type": "code",
   "execution_count": 2,
   "metadata": {
    "scrolled": true
   },
   "outputs": [
    {
     "name": "stdout",
     "output_type": "stream",
     "text": [
      "(18795,)\n"
     ]
    }
   ],
   "source": [
    "import numpy as np\n",
    "stat=np.load('/home/maria/Downloads/stat (1).npy',allow_pickle=True)\n",
    "# these are the neurons' 2D coordinates\n",
    "ypos = np.array([stat[n]['med'][0] for n in range(len(stat))]) \n",
    "# (notice the python list comprehension [X(n) for n in range(N)])\n",
    "xpos = np.array([stat[n]['med'][1] for n in range(len(stat))]) \n",
    "ypos\n",
    "print(ypos.shape)"
   ]
  },
  {
   "cell_type": "code",
   "execution_count": 2,
   "metadata": {},
   "outputs": [],
   "source": [
    "dat=np.load('/media/maria/DATA1/Documents/data_for_suite2p/TX39/spks.npy')"
   ]
  },
  {
   "cell_type": "code",
   "execution_count": 5,
   "metadata": {
    "scrolled": true
   },
   "outputs": [
    {
     "name": "stdout",
     "output_type": "stream",
     "text": [
      "(18795, 30766)\n"
     ]
    }
   ],
   "source": [
    "print(dat.shape)\n",
    "new_dat=dat[:,:5000]\n",
    "from sklearn.preprocessing import MinMaxScaler\n",
    "scaler = MinMaxScaler()\n",
    "dat_=scaler.fit_transform(new_dat)\n",
    "np.save('my_spks_.npy',dat_.T)"
   ]
  },
  {
   "cell_type": "code",
   "execution_count": 23,
   "metadata": {},
   "outputs": [
    {
     "name": "stdout",
     "output_type": "stream",
     "text": [
      "(10000, 5000)\n"
     ]
    },
    {
     "data": {
      "image/png": "[encoded data removed]",
      "text/plain": [
       "<Figure size 432x288 with 1 Axes>"
      ]
     },
     "metadata": {
      "needs_background": "light"
     },
     "output_type": "display_data"
    }
   ],
   "source": [
    "import matplotlib.pyplot as plt\n",
    "%matplotlib inline\n",
    "plt.plot(dat_.T[:,0])\n",
    "plt.plot(dat_.T[:,1])\n",
    "print(dat_.shape)"
   ]
  },
  {
   "cell_type": "code",
   "execution_count": 7,
   "metadata": {},
   "outputs": [
    {
     "name": "stdout",
     "output_type": "stream",
     "text": [
      "[[0.1823228 ]\n",
      " [0.10034159]\n",
      " [0.10845431]\n",
      " ...\n",
      " [0.955807  ]\n",
      " [0.9530316 ]\n",
      " [0.9030743 ]]\n",
      "(18795, 3)\n"
     ]
    }
   ],
   "source": [
    "from sklearn.preprocessing import MinMaxScaler\n",
    "scaler_x = MinMaxScaler()\n",
    "xpos_scaled=scaler_x.fit_transform(xpos.reshape(-1,1))\n",
    "scaler_y=MinMaxScaler()\n",
    "ypos_scaled=scaler_y.fit_transform(ypos.reshape(-1,1))\n",
    "N=18795\n",
    "print(xpos_scaled)\n",
    "pos_z=np.ones((N,1))\n",
    "\n",
    "pos=np.vstack((xpos_scaled.flatten(),ypos_scaled.flatten(),pos_z.flatten())).T\n",
    "print(pos.shape)\n",
    "\n",
    "np.save('pos.npy',pos)"
   ]
  },
  {
   "cell_type": "code",
   "execution_count": 5,
   "metadata": {},
   "outputs": [
    {
     "name": "stdout",
     "output_type": "stream",
     "text": [
      "[[-1.         -0.31975123]\n",
      " [-0.997998   -0.1234188 ]\n",
      " [-0.995996    0.27854214]\n",
      " ...\n",
      " [ 0.995996   -0.05302665]\n",
      " [ 0.997998    0.26001237]\n",
      " [ 1.          0.40466474]]\n"
     ]
    }
   ],
   "source": [
    "N = 1000\n",
    "data = np.c_[\n",
    "np.linspace(-1, 1, N),\n",
    "np.random.uniform(-0.5, +0.5, N)]\n",
    "print(data)"
   ]
  },
  {
   "cell_type": "code",
   "execution_count": 10,
   "metadata": {},
   "outputs": [
    {
     "name": "stdout",
     "output_type": "stream",
     "text": [
      "[(0., [0., 0., 0.], [0., 0., 0.]) (0., [0., 0., 0.], [0., 0., 0.])]\n",
      "[0. 0.]\n",
      "[[0. 0. 0.]\n",
      " [0. 0. 0.]]\n"
     ]
    }
   ],
   "source": [
    "# Create vertex data container\n",
    "N=2\n",
    "data = np.zeros(N, [('a_lifetime', np.float32),\n",
    "                    ('a_startPosition', np.float32, 3),\n",
    "                    ('a_endPosition', np.float32, 3)])\n",
    "print(data)\n",
    "print(data['a_lifetime'])\n",
    "print(data['a_startPosition'])"
   ]
  },
  {
   "cell_type": "code",
   "execution_count": 14,
   "metadata": {},
   "outputs": [
    {
     "name": "stdout",
     "output_type": "stream",
     "text": [
      "(65,)\n",
      "(65, 65)\n"
     ]
    }
   ],
   "source": [
    "# Create a texture\n",
    "radius = 32\n",
    "im1 = np.random.normal(\n",
    "    0.8, 0.3, (radius * 2 + 1, radius * 2 + 1)).astype(np.float32)\n",
    "\n",
    "# Mask it with a disk\n",
    "L = np.linspace(-radius, radius, 2 * radius + 1)\n",
    "print(L.shape)\n",
    "\n",
    "(X, Y) = np.meshgrid(L, L)\n",
    "im1 *= np.array((X ** 2 + Y ** 2) <= radius * radius, dtype='float32')\n",
    "print(im1.shape)"
   ]
  },
  {
   "cell_type": "code",
   "execution_count": 17,
   "metadata": {},
   "outputs": [
    {
     "name": "stdout",
     "output_type": "stream",
     "text": [
      "[[0. 0. 0. ... 0. 0. 0.]\n",
      " [0. 0. 0. ... 0. 0. 0.]\n",
      " [0. 0. 0. ... 0. 0. 0.]\n",
      " ...\n",
      " [0. 0. 0. ... 0. 0. 0.]\n",
      " [0. 0. 0. ... 0. 0. 0.]\n",
      " [0. 0. 0. ... 0. 0. 0.]]\n"
     ]
    },
    {
     "data": {
      "image/png": "[encoded data removed]",
      "text/plain": [
       "<Figure size 432x288 with 1 Axes>"
      ]
     },
     "metadata": {
      "needs_background": "light"
     },
     "output_type": "display_data"
    }
   ],
   "source": [
    "print(im1)\n",
    "import matplotlib.pyplot as plt\n",
    "plt.imshow(im1)\n",
    "plt.show()"
   ]
  },
  {
   "cell_type": "code",
   "execution_count": 3,
   "metadata": {},
   "outputs": [
    {
     "name": "stdout",
     "output_type": "stream",
     "text": [
      "[[0.         0.         0.         ... 0.         0.         0.        ]\n",
      " [0.         0.         0.         ... 0.04083744 0.         0.00379379]\n",
      " [0.01939763 0.03328475 0.         ... 0.16170155 0.0652806  0.09534921]\n",
      " ...\n",
      " [0.         0.17134465 0.00292674 ... 0.         0.         0.        ]\n",
      " [0.00478657 0.39446265 0.04551374 ... 0.         0.         0.03837071]\n",
      " [0.03702016 0.3858285  0.01456737 ... 0.         0.         0.        ]]\n"
     ]
    }
   ],
   "source": [
    "import numpy as np\n",
    "transp=np.load('my_spks.npy')\n",
    "print(transp)"
   ]
  }
 ],
 "metadata": {
  "kernelspec": {
   "display_name": "Python 3",
   "language": "python",
   "name": "python3"
  },
  "language_info": {
   "codemirror_mode": {
    "name": "ipython",
    "version": 3
   },
   "file_extension": ".py",
   "mimetype": "text/x-python",
   "name": "python",
   "nbconvert_exporter": "python",
   "pygments_lexer": "ipython3",
   "version": "3.7.4"
  }
 },
 "nbformat": 4,
 "nbformat_minor": 2
}
