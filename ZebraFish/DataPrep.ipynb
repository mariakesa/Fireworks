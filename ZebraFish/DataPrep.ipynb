{
 "cells": [
  {
   "cell_type": "code",
   "execution_count": 3,
   "metadata": {},
   "outputs": [],
   "source": [
    "from sklearn.preprocessing import MinMaxScaler\n",
    "import numpy as np\n",
    "scaler = MinMaxScaler()\n",
    "#dat_=scaler.fit_transform(new_dat)"
   ]
  },
  {
   "cell_type": "code",
   "execution_count": 8,
   "metadata": {},
   "outputs": [
    {
     "name": "stdout",
     "output_type": "stream",
     "text": [
      "(10000, 3)\n"
     ]
    }
   ],
   "source": [
    "N=10000\n",
    "rois=np.load('/media/maria/DATA1/Documents/Downl/fish04_6dpf_amph_rois.npy')\n",
    "xpos=rois[:10000,0]\n",
    "ypos=rois[:10000,1]\n",
    "scaler_x = MinMaxScaler()\n",
    "xpos_scaled=scaler_x.fit_transform(xpos.reshape(-1,1))\n",
    "scaler_y=MinMaxScaler()\n",
    "ypos_scaled=scaler_y.fit_transform(ypos.reshape(-1,1))\n",
    "pos_z=np.ones((N,1))\n",
    "pos=np.vstack((xpos_scaled.flatten(),ypos_scaled.flatten(),pos_z.flatten())).T\n",
    "print(pos.shape)\n",
    "\n",
    "np.save('pos.npy',pos)"
   ]
  },
  {
   "cell_type": "code",
   "execution_count": null,
   "metadata": {},
   "outputs": [],
   "source": []
  },
  {
   "cell_type": "code",
   "execution_count": 13,
   "metadata": {},
   "outputs": [],
   "source": [
    "traces=np.load('/media/maria/DATA1/Documents/Downl/fish04_6dpf_amph_traces.npy')\n",
    "scaler = MinMaxScaler()\n",
    "dat_=scaler.fit_transform(traces[:10000,:])\n",
    "np.save('/media/maria/DATA1/Documents/zebra_fish_gui/my_spks_.npy',dat_.T)"
   ]
  },
  {
   "cell_type": "code",
   "execution_count": null,
   "metadata": {},
   "outputs": [],
   "source": [
    "!pip install EnsemblePursuit\n",
    "from EnsemblePursuit.EnsemblePursuit import EnsemblePursuit\n",
    "ep=EnsemblePursuit(n_components=100,lam=0.01,n_kmeans=100)\n",
    "ep.fit(traces[:10000,:].T)\n",
    "np.save('/media/maria/DATA1/Documents/zebra_fish_gui/U.npy',ep.weights)"
   ]
  },
  {
   "cell_type": "code",
   "execution_count": 12,
   "metadata": {},
   "outputs": [],
   "source": [
    "#Unnormalized\n",
    "dat_=traces[:10000,:]\n",
    "np.save('/media/maria/DATA1/Documents/zebra_fish_gui/my_spks_.npy',dat_.T)"
   ]
  }
 ],
 "metadata": {
  "kernelspec": {
   "display_name": "Python 3",
   "language": "python",
   "name": "python3"
  },
  "language_info": {
   "codemirror_mode": {
    "name": "ipython",
    "version": 3
   },
   "file_extension": ".py",
   "mimetype": "text/x-python",
   "name": "python",
   "nbconvert_exporter": "python",
   "pygments_lexer": "ipython3",
   "version": "3.7.7"
  }
 },
 "nbformat": 4,
 "nbformat_minor": 4
}
