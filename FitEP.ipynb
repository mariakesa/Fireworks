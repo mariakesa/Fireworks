{
 "cells": [
  {
   "cell_type": "code",
   "execution_count": 1,
   "metadata": {},
   "outputs": [],
   "source": [
    "import sys\n",
    "sys.path.insert(1, '/home/maria/Documents/EnsemblePursuit')\n",
    "from EnsemblePursuit.EnsemblePursuit import EnsemblePursuit\n",
    "import numpy as np\n",
    "from scipy.stats import zscore\n",
    "import matplotlib.pyplot as plt"
   ]
  },
  {
   "cell_type": "code",
   "execution_count": 3,
   "metadata": {},
   "outputs": [
    {
     "name": "stdout",
     "output_type": "stream",
     "text": [
      "Shape of the data matrix, neurons by timepoints: (18795, 30766)\n",
      "(18795, 30560)\n",
      "obtained 200 PCs in 15.6170 seconds\n",
      "initialized 200 clusters with k-means in 26.2077 seconds\n",
      "ensemble 0, time 13.70, nr neurons 6340, EV 0.0086\n",
      "ensemble 25, time 102.72, nr neurons 206, EV 0.0329\n",
      "ensemble 50, time 167.87, nr neurons 90, EV 0.0420\n",
      "ensemble 75, time 228.13, nr neurons 95, EV 0.0492\n",
      "ensemble 100, time 284.33, nr neurons 100, EV 0.0551\n",
      "ensemble 125, time 335.64, nr neurons 80, EV 0.0605\n",
      "ensemble 150, time 384.49, nr neurons 50, EV 0.0652\n",
      "ensemble 175, time 431.76, nr neurons 46, EV 0.0695\n",
      "ensemble 199, time 473.96, nr neurons 41, EV 0.0734\n",
      "average sparsity is 0.0100\n"
     ]
    }
   ],
   "source": [
    "data_path='/media/maria/DATA1/Documents/data_for_suite2p/TX39/'\n",
    "dt=1\n",
    "spks= np.load(data_path+'spks.npy')\n",
    "print('Shape of the data matrix, neurons by timepoints:',spks.shape)\n",
    "iframe = np.load(data_path+'iframe.npy') # iframe[n] is the microscope frame for the image frame n\n",
    "ivalid = iframe+dt<spks.shape[-1] # remove timepoints outside the valid time range\n",
    "iframe = iframe[ivalid]\n",
    "S = spks[:, iframe+dt]\n",
    "print(S.shape)\n",
    "#Uncomment to compute U and V\n",
    "ep=EnsemblePursuit(n_components=200,lam=0.01,n_kmeans=200)\n",
    "model=ep.fit(S.T[:10000,:])\n",
    "V=model.components_\n",
    "U=model.weights"
   ]
  },
  {
   "cell_type": "code",
   "execution_count": 5,
   "metadata": {},
   "outputs": [
    {
     "name": "stdout",
     "output_type": "stream",
     "text": [
      "(18795, 200)\n"
     ]
    }
   ],
   "source": [
    "print(U.shape)\n",
    "np.save('U.npy',U)"
   ]
  }
 ],
 "metadata": {
  "kernelspec": {
   "display_name": "Python 3",
   "language": "python",
   "name": "python3"
  },
  "language_info": {
   "codemirror_mode": {
    "name": "ipython",
    "version": 3
   },
   "file_extension": ".py",
   "mimetype": "text/x-python",
   "name": "python",
   "nbconvert_exporter": "python",
   "pygments_lexer": "ipython3",
   "version": "3.7.4"
  }
 },
 "nbformat": 4,
 "nbformat_minor": 2
}
